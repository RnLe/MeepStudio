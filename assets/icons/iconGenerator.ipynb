{
 "cells": [
  {
   "cell_type": "code",
   "execution_count": 17,
   "id": "e2c1046c",
   "metadata": {},
   "outputs": [
    {
     "data": {
      "image/png": "[encoded data removed]",
      "text/plain": [
       "<Figure size 100x100 with 1 Axes>"
      ]
     },
     "metadata": {},
     "output_type": "display_data"
    }
   ],
   "source": [
    "import numpy as np\n",
    "import matplotlib.pyplot as plt\n",
    "\n",
    "x = np.linspace(0, 6*np.pi, 60)\n",
    "y = np.sin(x)\n",
    "\n",
    "fig, ax = plt.subplots()\n",
    "ax.plot(x, y, linewidth=3, color='black')\n",
    "ax.axis('off')\n",
    "fig.set_size_inches(1, 1)\n",
    "plt.savefig(\"wave_icon.svg\", format=\"svg\", transparent=True)"
   ]
  },
  {
   "cell_type": "code",
   "execution_count": 18,
   "id": "b1862ac1",
   "metadata": {},
   "outputs": [
    {
     "data": {
      "image/png": "[encoded data removed]",
      "text/plain": [
       "<Figure size 100x100 with 1 Axes>"
      ]
     },
     "metadata": {},
     "output_type": "display_data"
    }
   ],
   "source": [
    "import numpy as np\n",
    "import matplotlib.pyplot as plt\n",
    "\n",
    "x = np.linspace(-1*np.pi, 1*np.pi, 60)\n",
    "y = np.exp(-0.5*x**2) * np.cos(6*x)\n",
    "\n",
    "fig, ax = plt.subplots()\n",
    "ax.plot(x, y, linewidth=3, color='black')\n",
    "ax.axis('off')\n",
    "fig.set_size_inches(1, 1)\n",
    "plt.savefig(\"gauss_wave_package.svg\", format=\"svg\", transparent=True)"
   ]
  },
  {
   "cell_type": "code",
   "execution_count": 16,
   "id": "cc332c62",
   "metadata": {},
   "outputs": [
    {
     "data": {
      "image/png": "[encoded data removed]",
      "text/plain": [
       "<Figure size 100x100 with 1 Axes>"
      ]
     },
     "metadata": {},
     "output_type": "display_data"
    }
   ],
   "source": [
    "import numpy as np\n",
    "import matplotlib.pyplot as plt\n",
    "import math\n",
    "\n",
    "# Define the parabolic potential\n",
    "V = lambda x: x**2  # Parabolic potential\n",
    "\n",
    "# Define energy levels for n=0, 2, 4\n",
    "E0, E2, E4 = 0.5, 2.5, 4.5\n",
    "\n",
    "# Define the wavefunctions (normalized Hermite polynomials * Gaussian)\n",
    "def hermite_gaussian(x, n):\n",
    "    \"\"\"Hermite-Gaussian wavefunction for quantum harmonic oscillator\"\"\"\n",
    "    if n == 0:\n",
    "        H = 1\n",
    "    elif n == 2:\n",
    "        H = 4 * x**2 - 2\n",
    "    elif n == 4:\n",
    "        H = 16 * x**4 - 48 * x**2 + 12\n",
    "    else:\n",
    "        raise ValueError(\"Only n=0, 2, 4 are supported in this example.\")\n",
    "    \n",
    "    psi = (1/np.pi)**(1/4) * (1/np.sqrt(2**n * math.factorial(n))) * \\\n",
    "          np.exp(-x**2/2) * H\n",
    "    return psi\n",
    "\n",
    "# Increase magnitude for better visibility\n",
    "scale = 0.5  # Increased from 0.3\n",
    "\n",
    "# Find x limits where wavefunctions would intersect with parabola\n",
    "# For energy E, the classical turning points are at x = ±sqrt(E)\n",
    "x0_max = np.sqrt(E0)\n",
    "x2_max = np.sqrt(E2)\n",
    "x4_max = np.sqrt(E4)\n",
    "\n",
    "# Create x arrays for each wavefunction that go exactly to the turning points\n",
    "x0 = np.linspace(-x0_max, x0_max, 20)\n",
    "x2 = np.linspace(-x2_max, x2_max, 20)\n",
    "x4 = np.linspace(-x4_max, x4_max, 20)\n",
    "\n",
    "# Scale x coordinates to make wavefunctions fit better in the \"well\"\n",
    "# This creates a more square-well-like appearance\n",
    "x0_scaled = x0 * (np.pi / (2 * x0_max))\n",
    "x2_scaled = x2 * (np.pi / (2 * x2_max))\n",
    "x4_scaled = x4 * (np.pi / (2 * x4_max))\n",
    "\n",
    "# Calculate wavefunctions with scaled coordinates\n",
    "psi0 = hermite_gaussian(x0_scaled, 0) * np.cos(x0_scaled)\n",
    "psi2 = hermite_gaussian(x2_scaled, 2) * np.cos(x2_scaled)\n",
    "psi4 = hermite_gaussian(x4_scaled, 4) * np.cos(x4_scaled)\n",
    "\n",
    "# Normalize to ensure wavefunctions go to zero at boundaries\n",
    "psi0 = psi0 / np.max(np.abs(psi0))\n",
    "psi2 = psi2 / np.max(np.abs(psi2))\n",
    "psi4 = psi4 / np.max(np.abs(psi4))\n",
    "\n",
    "# Scale and shift wavefunctions to their energy levels\n",
    "# Increase scale for n=2 and n=4 to raise them slightly\n",
    "y0 = E0 + scale * psi0\n",
    "y2 = E2 + scale * 1.15 * psi2  # 15% higher\n",
    "y4 = E4 + scale * 1.3 * psi4   # 30% higher\n",
    "\n",
    "# Ensure endpoints are exactly on the parabola\n",
    "y0[0] = V(x0[0])\n",
    "y0[-1] = V(x0[-1])\n",
    "y2[0] = V(x2[0])\n",
    "y2[-1] = V(x2[-1])\n",
    "y4[0] = V(x4[0])\n",
    "y4[-1] = V(x4[-1])\n",
    "\n",
    "fig, ax = plt.subplots()\n",
    "\n",
    "# Plot the parabolic potential\n",
    "x_potential = np.linspace(-2.5, 2.5, 20)\n",
    "V_potential = V(x_potential)\n",
    "ax.plot(x_potential, V_potential, 'black', linewidth=2)\n",
    "\n",
    "# Plot the wavefunctions\n",
    "ax.plot(x0, y0, 'black', linewidth=2)\n",
    "ax.plot(x2, y2, 'black', linewidth=2)\n",
    "ax.plot(x4, y4, 'black', linewidth=2)\n",
    "\n",
    "ax.set_xlim(-2.7, 2.7)\n",
    "ax.set_ylim(-0.1, 5.5)\n",
    "ax.axis('off')\n",
    "fig.set_size_inches(1, 1)\n",
    "plt.savefig(\"quantum_harmonic_oscillator.svg\", format=\"svg\", transparent=True)"
   ]
  },
  {
   "cell_type": "code",
   "execution_count": 15,
   "id": "b4e1603d",
   "metadata": {},
   "outputs": [
    {
     "name": "stdout",
     "output_type": "stream",
     "text": [
      "Cleaned wave_icon.svg\n",
      "Cleaned gauss_wave_package.svg\n",
      "Cleaned quantum_harmonic_oscillator.svg\n",
      "Cleaned 3 SVG files total\n"
     ]
    }
   ],
   "source": [
    "# Script to clean SVG files and ensure they work with CustomLucideIcon\n",
    "import re\n",
    "import os\n",
    "\n",
    "def clean_svg_for_lucide(filepath):\n",
    "    \"\"\"Clean SVG file to work properly with CustomLucideIcon component\"\"\"\n",
    "    with open(filepath, 'r') as f:\n",
    "        content = f.read()\n",
    "    \n",
    "    # Replace black stroke color with currentColor\n",
    "    content = re.sub(r'stroke: #000000', 'stroke: currentColor\"', content)\n",
    "    content = re.sub(r'stroke: #000\"', 'stroke: currentColor\"', content)\n",
    "    content = re.sub(r'stroke: black\"', 'stroke: currentColor\"', content)\n",
    "    content = re.sub(r\"stroke: #000000'\", \"stroke: 'currentColor'\", content)\n",
    "    content = re.sub(r\"stroke: #000'\", \"stroke: 'currentColor'\", content)\n",
    "    content = re.sub(r\"stroke: black'\", \"stroke: 'currentColor'\", content)\n",
    "    \n",
    "    # Remove fill or set to none (matplotlib might add some)\n",
    "    content = re.sub(r'fill: [^\"]*\"', 'fill: none\"', content)\n",
    "    content = re.sub(r\"fill: [^']*'\", \"fill: none'\", content)\n",
    "    \n",
    "    # Remove the patch_1 group (background rectangle)\n",
    "    content = re.sub(r'<g id=\"patch_1\">.*?</g>\\s*', '', content, flags=re.DOTALL)\n",
    "    \n",
    "    # Ensure stroke attributes are present for better compatibility\n",
    "    if 'stroke-linecap' not in content:\n",
    "        content = content.replace('<g id=\"line2d_1\">', '<g id=\"line2d_1\" stroke-linecap=\"round\">')\n",
    "    if 'stroke-linejoin' not in content:\n",
    "        content = content.replace('<g id=\"line2d_1\"', '<g id=\"line2d_1\" stroke-linejoin=\"round\"')\n",
    "    \n",
    "    with open(filepath, 'w') as f:\n",
    "        f.write(content)\n",
    "    \n",
    "    print(f\"Cleaned {filepath}\")\n",
    "\n",
    "# Get all SVG files in the current directory\n",
    "svg_files = [f for f in os.listdir('.') if f.endswith('.svg')]\n",
    "\n",
    "# Clean each SVG file\n",
    "for svg_file in svg_files:\n",
    "    clean_svg_for_lucide(svg_file)\n",
    "\n",
    "print(f\"Cleaned {len(svg_files)} SVG files total\")\n"
   ]
  }
 ],
 "metadata": {
  "kernelspec": {
   "display_name": "Python 3",
   "language": "python",
   "name": "python3"
  },
  "language_info": {
   "codemirror_mode": {
    "name": "ipython",
    "version": 3
   },
   "file_extension": ".py",
   "mimetype": "text/x-python",
   "name": "python",
   "nbconvert_exporter": "python",
   "pygments_lexer": "ipython3",
   "version": "3.13.3"
  }
 },
 "nbformat": 4,
 "nbformat_minor": 5
}
